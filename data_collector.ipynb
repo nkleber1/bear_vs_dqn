{
 "cells": [
  {
   "cell_type": "markdown",
   "metadata": {},
   "source": [
    "# Data Collector"
   ]
  },
  {
   "cell_type": "code",
   "execution_count": 1,
   "metadata": {},
   "outputs": [],
   "source": [
    "import numpy as np\n",
    "from stable_baselines import DQN\n",
    "from stable_baselines.gail import generate_expert_traj"
   ]
  },
  {
   "cell_type": "markdown",
   "metadata": {},
   "source": [
    "## Collecting a expert off-policy dataset\n",
    "Erklärung hier..."
   ]
  },
  {
   "cell_type": "code",
   "execution_count": null,
   "metadata": {},
   "outputs": [],
   "source": [
    "# Set Parameters\n",
    "dataset_name = 'expert_cartpole' # name of the dataset\n",
    "dataste_n_episodes = 1e4 # number of episodes in the dataset \n",
    "env_name = 'CartPole-v1' # name of the enviornment\n",
    "train_n_steps = 1e6 # number of tranings steps befor collecting data \n",
    "\n",
    "# Collect dataset\n",
    "model = DQN('MlpPolicy', env_name, verbose=1)\n",
    "generate_expert_traj(model, dataset_name, n_timesteps=int(train_n_steps), n_episodes=int(dataste_n_episodes))"
   ]
  },
  {
   "cell_type": "code",
   "execution_count": null,
   "metadata": {},
   "outputs": [],
   "source": []
  }
 ],
 "metadata": {
  "kernelspec": {
   "display_name": "venv_mujoco",
   "language": "python",
   "name": "venv_mujoco"
  },
  "language_info": {
   "codemirror_mode": {
    "name": "ipython",
    "version": 3
   },
   "file_extension": ".py",
   "mimetype": "text/x-python",
   "name": "python",
   "nbconvert_exporter": "python",
   "pygments_lexer": "ipython3",
   "version": "3.6.9"
  }
 },
 "nbformat": 4,
 "nbformat_minor": 2
}
